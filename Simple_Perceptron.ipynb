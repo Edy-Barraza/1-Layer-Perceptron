{
 "cells": [
  {
   "cell_type": "markdown",
   "metadata": {},
   "source": [
    "<h2>The Perceptron</h2>\n",
    "\n",
    "\n",
    "\n",
    "<blockquote>\n",
    "    <center>\n",
    "    <img src=\"perceptron.png\" width=\"200px\" />\n",
    "    </center>\n",
    "      <p><cite><center>\"What, we asked, wasn't the Perceptron capable of?\"<br>\n",
    "      Rival, The New Yorker, December 6, 1958 P. 44</center>\n",
    "      </cite></p>\n",
    "</blockquote>\n",
    "\n",
    "<h3>Introduction</h3>\n",
    "\n",
    "<p>A simple Perceptron Classifier. Tested on classifying digits, but can be used for any linearly seperable data. Best used for classifying data with a high dimensional feature space.</p>\n",
    "\n",
    "\n",
    "\n",
    "\n"
   ]
  },
  {
   "cell_type": "code",
   "execution_count": 1,
   "metadata": {
    "collapsed": true
   },
   "outputs": [],
   "source": [
    "import numpy as np\n",
    "from numpy.matlib import repmat\n",
    "import sys\n",
    "import matplotlib \n",
    "import matplotlib.pyplot as plt\n",
    "from scipy.io import loadmat\n",
    "import time\n",
    "\n",
    "# add p02 folder\n",
    "sys.path.insert(0, './p02/')\n",
    "\n",
    "%matplotlib inline"
   ]
  },
  {
   "cell_type": "code",
   "execution_count": 2,
   "metadata": {},
   "outputs": [
    {
     "name": "stdout",
     "output_type": "stream",
     "text": [
      "You're running python 3.6.2\n"
     ]
    }
   ],
   "source": [
    "print('You\\'re running python %s' % sys.version.split(' ')[0])"
   ]
  },
  {
   "cell_type": "code",
   "execution_count": 3,
   "metadata": {
    "collapsed": true
   },
   "outputs": [],
   "source": [
    "def loaddata(filename):\n",
    "    \"\"\"\n",
    "    Returns xTr,yTr,xTe,yTe\n",
    "    xTr, xTe are in the form nxd\n",
    "    yTr, yTe are in the form nx1\n",
    "    \"\"\"\n",
    "    data = loadmat(filename)\n",
    "    xTr = data[\"xTr\"]; # load in Training data\n",
    "    yTr = np.round(data[\"yTr\"]); # load in Training labels\n",
    "    xTe = data[\"xTe\"]; # load in Testing data\n",
    "    yTe = np.round(data[\"yTe\"]); # load in Testing labels\n",
    "    return xTr.T,yTr.T,xTe.T,yTe.T"
   ]
  },
  {
   "cell_type": "markdown",
   "metadata": {},
   "source": [
    "<p><b><code>perceptronUpdate</code></b> updates the perceptron, should be used after a misclassification </p>"
   ]
  },
  {
   "cell_type": "code",
   "execution_count": 4,
   "metadata": {
    "collapsed": true
   },
   "outputs": [],
   "source": [
    "def perceptronUpdate(x,y,w):\n",
    "    \"\"\"\n",
    "    function w=perceptronUpdate(x,y,w);\n",
    "    \n",
    "    Implementation of Perceptron weights updating\n",
    "    Input:\n",
    "    x : input vector of d dimensions (dx0)\n",
    "    y : corresponding label (-1 or +1)\n",
    "    w : weight vector before updating\n",
    "    \n",
    "    Output:\n",
    "    w : weight vector after updating\n",
    "    \"\"\"\n",
    "    \n",
    "    return w+y*x\n"
   ]
  },
  {
   "cell_type": "markdown",
   "metadata": {},
   "source": [
    "<p><b><code>perceptron</code></b> trains a new perceptron </p>"
   ]
  },
  {
   "cell_type": "code",
   "execution_count": 5,
   "metadata": {
    "collapsed": true
   },
   "outputs": [],
   "source": [
    "def perceptron(x,y):\n",
    "    \"\"\"\n",
    "    function w=perceptron(x,y);\n",
    "    \n",
    "    Implementation of a Perceptron classifier\n",
    "    Input:\n",
    "    x : n input vectors of d dimensions (nxd)\n",
    "    y : n labels (-1 or +1)\n",
    "    \n",
    "    Output:\n",
    "    w : weight vector (dx0)\n",
    "    \"\"\"\n",
    "    \n",
    "    n, d = x.shape\n",
    "    w = np.zeros((d))\n",
    "    it=0\n",
    "    m=1\n",
    "    \n",
    "    while m!=0 and it<100:\n",
    "        #randomizes training order after each iteration\n",
    "        perm=np.random.permutation(n)\n",
    "        x=x[perm]\n",
    "        y=y[perm]\n",
    "        m=0\n",
    "        for i in range(0,n):\n",
    "            if y[i]*np.dot(w,x[i])<=0:\n",
    "                w= perceptronUpdate(x[i],y[i],w)\n",
    "                m=m+1\n",
    "        it=it+1\n",
    "    return w"
   ]
  },
  {
   "cell_type": "markdown",
   "metadata": {},
   "source": [
    "<p> \n",
    "<b><code>pointClassifer</code></b>\n",
    " applies the weight vector and bias to single input vector. (The bias is an optional parameter).</p> \n",
    "\n"
   ]
  },
  {
   "cell_type": "code",
   "execution_count": 6,
   "metadata": {
    "collapsed": true
   },
   "outputs": [],
   "source": [
    "def pointClassifier(xi,w,b=None):\n",
    "    if b is None:\n",
    "        return np.sign(np.dot(xi,w))\n",
    "    else:\n",
    "        return np.sign(np.dot(xi,w)+b)\n"
   ]
  },
  {
   "cell_type": "markdown",
   "metadata": {},
   "source": [
    "<p> \n",
    "<b>classifyLinear</b>\n",
    " applies the weight vector and bias to set of input vectors to predict their classification. (The bias is an optional parameter).</p> "
   ]
  },
  {
   "cell_type": "code",
   "execution_count": 7,
   "metadata": {
    "collapsed": true
   },
   "outputs": [],
   "source": [
    "def classifyLinear(x,w,b=0):\n",
    "    \"\"\"\n",
    "    function preds=classifyLinear(x,w,b)\n",
    "    \n",
    "    Make predictions with a linear classifier\n",
    "    Input:\n",
    "    x : n input vectors of d dimensions (nxd)\n",
    "    w : weight vector (dx1)\n",
    "    b : bias (scalar)\n",
    "    \n",
    "    Output:\n",
    "    preds: predictions (1xn)\n",
    "    \"\"\"\n",
    "    \n",
    "    if b is 0:\n",
    "        return np.fromiter((pointClassifier(xi,w) for xi in x),dtype=int, count=x.shape[0])\n",
    "\n",
    "    else:\n",
    "        return np.fromiter((pointClassifier(xi,w,b) for xi in x),dtype=int, count=x.shape[0])\n",
    "        "
   ]
  },
  {
   "cell_type": "markdown",
   "metadata": {},
   "source": [
    "\n",
    "<p> You can use the following script to visualize your perceptron on linearly separable data in 2 dimensions. Your classifier should find a separating hyperplane on such data.   </p>"
   ]
  },
  {
   "cell_type": "code",
   "execution_count": 8,
   "metadata": {},
   "outputs": [
    {
     "data": {
      "image/png": "[encoded data removed]",
      "text/plain": [
       "<matplotlib.figure.Figure at 0x10da1d438>"
      ]
     },
     "metadata": {},
     "output_type": "display_data"
    }
   ],
   "source": [
    "# number of input vectors\n",
    "N = 100\n",
    "# Define the symbols and colors we'll use in the plots later\n",
    "symbols = ['ko', 'kx']\n",
    "mycolors = [[0.5, 0.5, 1], [1, 0.5, 0.5]]\n",
    "classvals = [-1, 1]\n",
    "\n",
    "# generate random (linarly separable) data\n",
    "trainPoints = np.random.randn(N, 2) * 1.5\n",
    "\n",
    "# defining random hyperplane\n",
    "w = np.random.rand(2)\n",
    "\n",
    "# assigning labels +1, -1 labels depending on what side of the plane they lie on\n",
    "trainLabels = np.sign(np.dot(trainPoints, w))\n",
    "i = np.random.permutation([i for i in range(N)])\n",
    "\n",
    "# shuffling training points in random order\n",
    "trainPoints = trainPoints[i, :]\n",
    "trainLabels = trainLabels[i]\n",
    "\n",
    "# call perceptron to find w from data\n",
    "w = perceptron(trainPoints.copy(),trainLabels.copy())\n",
    "b = 0\n",
    "\n",
    "res=300\n",
    "xrange = np.linspace(-5, 5,res)\n",
    "yrange = np.linspace(-5, 5,res)\n",
    "pixelX = repmat(xrange, res, 1)\n",
    "pixelY = repmat(yrange, res, 1).T\n",
    "\n",
    "testPoints = np.array([pixelX.flatten(), pixelY.flatten(), np.ones(pixelX.flatten().shape)]).T\n",
    "testLabels = np.dot(testPoints, np.concatenate([w.flatten(), [b]]))\n",
    "\n",
    "Z = testLabels.reshape(res,res)\n",
    "plt.contourf(pixelX, pixelY, np.sign(Z), colors=mycolors)\n",
    "plt.scatter(trainPoints[trainLabels == classvals[0],0],\n",
    "            trainPoints[trainLabels == classvals[0],1],\n",
    "            marker='o',\n",
    "            color='k'\n",
    "           )\n",
    "plt.scatter(trainPoints[trainLabels == classvals[1],0],\n",
    "            trainPoints[trainLabels == classvals[1],1],\n",
    "            marker='x',\n",
    "            color='k'\n",
    "           )\n",
    "plt.quiver(0,0,w[0],w[1],linewidth=0.5, color=[0,1,0])\n",
    "plt.axis('tight')\n",
    "plt.show()"
   ]
  },
  {
   "cell_type": "markdown",
   "metadata": {},
   "source": [
    "<h4>Credits</h4>\n",
    "<p>\n",
    "  Parts of this webpage markup were copied from or heavily inspired by\n",
    "Killian Weinberg's: <a href=\"http://www.cs.cornell.edu/courses/cs4780/2018sp/\">Machine Learning Course</a> .\n",
    "</p>"
   ]
  },
  {
   "cell_type": "code",
   "execution_count": 9,
   "metadata": {
    "collapsed": true
   },
   "outputs": [],
   "source": [
    "def binarize(x, val):\n",
    "    z = np.zeros(x.shape)\n",
    "    z[x != val] = 0\n",
    "    z[x == val] = 1\n",
    "    return z"
   ]
  },
  {
   "cell_type": "markdown",
   "metadata": {},
   "source": [
    "\n",
    "<p> The following script can be used to display the weight vector and classification error on the digits data set. The perceptron will find a separating hyperplane for this data when the error is zero. </p>"
   ]
  },
  {
   "cell_type": "code",
   "execution_count": null,
   "metadata": {},
   "outputs": [
    {
     "data": {
      "image/png": "[encoded data removed]",
      "text/plain": [
       "<matplotlib.figure.Figure at 0x180e778a20>"
      ]
     },
     "metadata": {},
     "output_type": "display_data"
    }
   ],
   "source": [
    "from IPython import display\n",
    "import pylab as pl\n",
    "\n",
    "xTr,yTr,xTe,yTe=loaddata(\"digits.mat\")\n",
    "MAXITER = 10\n",
    "N = 100\n",
    "c = [0, 7]\n",
    "\n",
    "ii = np.where(np.logical_or(yTr == c[0], yTr == c[1]).flatten())[0]\n",
    "ii = ii[np.random.permutation([i for i in range(len(ii))])]\n",
    "ii = ii[:N]\n",
    "\n",
    "xTr = xTr[ii,:]\n",
    "yTr = yTr[ii].flatten()\n",
    "yTr = binarize(yTr, c[0]) * 2 - 1\n",
    "\n",
    "n = 2    \n",
    "size = 2\n",
    "f, axarr = plt.subplots(1, n, sharey=True)\n",
    "f.set_figwidth(size * n)\n",
    "f.set_figheight(size /2 *n)\n",
    "\n",
    "w = np.zeros(xTr[0,:].shape)\n",
    "\n",
    "err = 1.0\n",
    "\n",
    "plt.ion()\n",
    "\n",
    "# run at most MAXITER iterations\n",
    "for itr in range(MAXITER):\n",
    "    for i in range(N):\n",
    "        # draw offender\n",
    "        axarr[1].imshow(xTr[i,:].reshape(16,16).T, cmap=plt.cm.binary_r)\n",
    "        axarr[1].tick_params(axis='both', which='both', bottom='off', top='off',\n",
    "                             labelbottom='off', right='off', left='off', labelleft='off')\n",
    "        axarr[1].set_title('Last Incorrect Sample')\n",
    "        \n",
    "\n",
    "        if pointClassifier(xTr[i,:], w) != yTr[i]:\n",
    "            # do update\n",
    "            w = perceptronUpdate(xTr[i,:], yTr[i], w)\n",
    "            # compute new training error\n",
    "            preds = classifyLinear(xTr, w)\n",
    "            err = np.sum(yTr == preds) / float(len(yTr))\n",
    "\n",
    "            # plot new vector\n",
    "            axarr[0].imshow(w.reshape(16,16).T, cmap=plt.cm.binary_r)\n",
    "            axarr[0].tick_params(axis='both', which='both', bottom='off', top='off',\n",
    "                                 labelbottom='off', right='off', left='off', labelleft='off')\n",
    "            axarr[0].set_title('Weight Vector')\n",
    "            axarr[0].set_xlabel('Acurracy: %.2f' % err)\n",
    "            \n",
    "            display.display(pl.gcf())\n",
    "            display.clear_output(wait=True)\n",
    "        if err == 0.:\n",
    "            break\n",
    "    time.sleep(.001)\n",
    "    \n",
    "    if err == 0.:\n",
    "        break\n",
    "\n",
    "axarr[1].set_xlabel('Done!')\n",
    "display.display(pl.gcf())\n",
    "display.clear_output(wait=True)"
   ]
  },
  {
   "cell_type": "code",
   "execution_count": null,
   "metadata": {
    "collapsed": true
   },
   "outputs": [],
   "source": []
  }
 ],
 "metadata": {
  "anaconda-cloud": {},
  "kernelspec": {
   "display_name": "Python 3",
   "language": "python",
   "name": "python3"
  },
  "language_info": {
   "codemirror_mode": {
    "name": "ipython",
    "version": 3
   },
   "file_extension": ".py",
   "mimetype": "text/x-python",
   "name": "python",
   "nbconvert_exporter": "python",
   "pygments_lexer": "ipython3",
   "version": "3.6.2"
  }
 },
 "nbformat": 4,
 "nbformat_minor": 1
}
